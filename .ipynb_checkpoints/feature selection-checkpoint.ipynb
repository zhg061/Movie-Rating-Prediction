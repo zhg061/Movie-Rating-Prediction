{
 "cells": [
  {
   "cell_type": "code",
   "execution_count": 1,
   "id": "illegal-place",
   "metadata": {},
   "outputs": [],
   "source": [
    "import pandas as pd\n",
    "import numpy as np\n",
    "from sklearn import linear_model\n",
    "from sklearn.model_selection import train_test_split\n",
    "from sklearn.linear_model import LinearRegression\n",
    "from sklearn.metrics import mean_squared_error, mean_absolute_error\n",
    "from sklearn.model_selection import cross_val_score"
   ]
  },
  {
   "cell_type": "code",
   "execution_count": 2,
   "id": "suburban-banks",
   "metadata": {},
   "outputs": [
    {
     "data": {
      "text/plain": [
       "Index(['Unnamed: 0', 'rating_avg', 'timestamp', 'belongs_to_collection',\n",
       "       'popularity', 'Fantasy', 'TV Movie', 'Adventure', 'Thriller', 'Western',\n",
       "       ...\n",
       "       'zu_lan', 'num_languages', 'Canceled', 'In Production', 'Planned',\n",
       "       'Post Production', 'Released', 'Rumored', 'tagline_len', 'video_int'],\n",
       "      dtype='object', length=384)"
      ]
     },
     "execution_count": 2,
     "metadata": {},
     "output_type": "execute_result"
    }
   ],
   "source": [
    "df = pd.read_csv(\"data/movies_ratings.csv\")\n",
    "df.columns"
   ]
  },
  {
   "cell_type": "code",
   "execution_count": 3,
   "id": "unauthorized-spare",
   "metadata": {
    "scrolled": false
   },
   "outputs": [
    {
     "name": "stderr",
     "output_type": "stream",
     "text": [
      "C:\\Users\\lucyg\\Anaconda3\\lib\\site-packages\\sklearn\\linear_model\\_coordinate_descent.py:532: ConvergenceWarning: Objective did not converge. You might want to increase the number of iterations. Duality gap: 2341.761724523886, tolerance: 0.6626406772669897\n",
      "  positive)\n"
     ]
    },
    {
     "data": {
      "text/html": [
       "<div>\n",
       "<style scoped>\n",
       "    .dataframe tbody tr th:only-of-type {\n",
       "        vertical-align: middle;\n",
       "    }\n",
       "\n",
       "    .dataframe tbody tr th {\n",
       "        vertical-align: top;\n",
       "    }\n",
       "\n",
       "    .dataframe thead th {\n",
       "        text-align: right;\n",
       "    }\n",
       "</style>\n",
       "<table border=\"1\" class=\"dataframe\">\n",
       "  <thead>\n",
       "    <tr style=\"text-align: right;\">\n",
       "      <th></th>\n",
       "      <th>alpha</th>\n",
       "      <th>cv_score</th>\n",
       "      <th>mae</th>\n",
       "      <th>num of features</th>\n",
       "    </tr>\n",
       "  </thead>\n",
       "  <tbody>\n",
       "    <tr>\n",
       "      <th>0</th>\n",
       "      <td>0.00001</td>\n",
       "      <td>-0.636412</td>\n",
       "      <td>0.529617</td>\n",
       "      <td>267</td>\n",
       "    </tr>\n",
       "    <tr>\n",
       "      <th>1</th>\n",
       "      <td>0.00010</td>\n",
       "      <td>-0.624560</td>\n",
       "      <td>0.558974</td>\n",
       "      <td>185</td>\n",
       "    </tr>\n",
       "    <tr>\n",
       "      <th>2</th>\n",
       "      <td>0.00100</td>\n",
       "      <td>-0.605183</td>\n",
       "      <td>0.533316</td>\n",
       "      <td>62</td>\n",
       "    </tr>\n",
       "    <tr>\n",
       "      <th>3</th>\n",
       "      <td>0.01000</td>\n",
       "      <td>-0.607309</td>\n",
       "      <td>0.538329</td>\n",
       "      <td>15</td>\n",
       "    </tr>\n",
       "    <tr>\n",
       "      <th>4</th>\n",
       "      <td>0.10000</td>\n",
       "      <td>-0.606047</td>\n",
       "      <td>0.542659</td>\n",
       "      <td>8</td>\n",
       "    </tr>\n",
       "    <tr>\n",
       "      <th>5</th>\n",
       "      <td>1.00000</td>\n",
       "      <td>-0.742966</td>\n",
       "      <td>0.661930</td>\n",
       "      <td>5</td>\n",
       "    </tr>\n",
       "    <tr>\n",
       "      <th>6</th>\n",
       "      <td>10.00000</td>\n",
       "      <td>-0.748317</td>\n",
       "      <td>0.655494</td>\n",
       "      <td>4</td>\n",
       "    </tr>\n",
       "  </tbody>\n",
       "</table>\n",
       "</div>"
      ],
      "text/plain": [
       "      alpha  cv_score       mae  num of features\n",
       "0   0.00001 -0.636412  0.529617              267\n",
       "1   0.00010 -0.624560  0.558974              185\n",
       "2   0.00100 -0.605183  0.533316               62\n",
       "3   0.01000 -0.607309  0.538329               15\n",
       "4   0.10000 -0.606047  0.542659                8\n",
       "5   1.00000 -0.742966  0.661930                5\n",
       "6  10.00000 -0.748317  0.655494                4"
      ]
     },
     "execution_count": 3,
     "metadata": {},
     "output_type": "execute_result"
    }
   ],
   "source": [
    "alphas = [0.00001, 0.0001, 0.001, 0.01, 0.1, 1, 10]\n",
    "res = pd.DataFrame()\n",
    "res['alpha'] = alphas\n",
    "mae = []\n",
    "cv_score = []\n",
    "num = []\n",
    "\n",
    "for alpha in alphas:\n",
    "    # lasso feature selection\n",
    "    clf = linear_model.Lasso(alpha=alpha)\n",
    "    X = df.drop(columns=['rating_avg', 'Unnamed: 0'])\n",
    "    y = df.rating_avg\n",
    "    mdl = clf.fit(X, y)\n",
    "    coef = clf.coef_\n",
    "    features = X.columns[coef!=0]\n",
    "    X = X[features]\n",
    "    num.append(len(features))\n",
    "    \n",
    "    # linear regression\n",
    "    X_train, X_test, y_train, y_test = train_test_split(X, y, test_size=0.2)\n",
    "    linreg = LinearRegression()\n",
    "    linreg.fit(X_train, y_train)\n",
    "    y_hat_test = linreg.predict(X_test)\n",
    "    \n",
    "    # mean absolute error\n",
    "    test_mse = mean_squared_error(y_test, y_hat_test)\n",
    "    test_rmse = np.sqrt(test_mse)\n",
    "    test_mae = mean_absolute_error(y_test, y_hat_test)\n",
    "    mae.append(test_mae)\n",
    "    \n",
    "    # cross validation scores\n",
    "    cv_5_results = cross_val_score(linreg, \n",
    "                                   X, \n",
    "                                   y, \n",
    "                                   cv=5, \n",
    "                                   scoring=\"neg_mean_squared_error\")\n",
    "    cv_score.append(np.mean(cv_5_results))\n",
    "    \n",
    "res['cv_score'] = cv_score\n",
    "res['mae'] = mae\n",
    "res['num of features'] = num\n",
    "res"
   ]
  }
 ],
 "metadata": {
  "kernelspec": {
   "display_name": "Python 3",
   "language": "python",
   "name": "python3"
  },
  "language_info": {
   "codemirror_mode": {
    "name": "ipython",
    "version": 3
   },
   "file_extension": ".py",
   "mimetype": "text/x-python",
   "name": "python",
   "nbconvert_exporter": "python",
   "pygments_lexer": "ipython3",
   "version": "3.7.10"
  }
 },
 "nbformat": 4,
 "nbformat_minor": 5
}
