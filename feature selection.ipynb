{
 "cells": [
  {
   "cell_type": "code",
   "execution_count": 1,
   "id": "illegal-place",
   "metadata": {},
   "outputs": [
    {
     "name": "stderr",
     "output_type": "stream",
     "text": [
      "In C:\\Users\\lucyg\\Anaconda3\\lib\\site-packages\\matplotlib\\mpl-data\\stylelib\\_classic_test.mplstyle: \n",
      "The text.latex.preview rcparam was deprecated in Matplotlib 3.3 and will be removed two minor releases later.\n",
      "In C:\\Users\\lucyg\\Anaconda3\\lib\\site-packages\\matplotlib\\mpl-data\\stylelib\\_classic_test.mplstyle: \n",
      "The mathtext.fallback_to_cm rcparam was deprecated in Matplotlib 3.3 and will be removed two minor releases later.\n",
      "In C:\\Users\\lucyg\\Anaconda3\\lib\\site-packages\\matplotlib\\mpl-data\\stylelib\\_classic_test.mplstyle: Support for setting the 'mathtext.fallback_to_cm' rcParam is deprecated since 3.3 and will be removed two minor releases later; use 'mathtext.fallback : 'cm' instead.\n",
      "In C:\\Users\\lucyg\\Anaconda3\\lib\\site-packages\\matplotlib\\mpl-data\\stylelib\\_classic_test.mplstyle: \n",
      "The validate_bool_maybe_none function was deprecated in Matplotlib 3.3 and will be removed two minor releases later.\n",
      "In C:\\Users\\lucyg\\Anaconda3\\lib\\site-packages\\matplotlib\\mpl-data\\stylelib\\_classic_test.mplstyle: \n",
      "The savefig.jpeg_quality rcparam was deprecated in Matplotlib 3.3 and will be removed two minor releases later.\n",
      "In C:\\Users\\lucyg\\Anaconda3\\lib\\site-packages\\matplotlib\\mpl-data\\stylelib\\_classic_test.mplstyle: \n",
      "The keymap.all_axes rcparam was deprecated in Matplotlib 3.3 and will be removed two minor releases later.\n",
      "In C:\\Users\\lucyg\\Anaconda3\\lib\\site-packages\\matplotlib\\mpl-data\\stylelib\\_classic_test.mplstyle: \n",
      "The animation.avconv_path rcparam was deprecated in Matplotlib 3.3 and will be removed two minor releases later.\n",
      "In C:\\Users\\lucyg\\Anaconda3\\lib\\site-packages\\matplotlib\\mpl-data\\stylelib\\_classic_test.mplstyle: \n",
      "The animation.avconv_args rcparam was deprecated in Matplotlib 3.3 and will be removed two minor releases later.\n"
     ]
    }
   ],
   "source": [
    "import pandas as pd\n",
    "import numpy as np\n",
    "from sklearn import linear_model\n",
    "from sklearn.model_selection import train_test_split\n",
    "from sklearn.linear_model import LinearRegression\n",
    "from sklearn.metrics import mean_squared_error, mean_absolute_error\n",
    "from sklearn.model_selection import cross_val_score\n",
    "import matplotlib.pyplot as plt"
   ]
  },
  {
   "cell_type": "code",
   "execution_count": 2,
   "id": "established-scheduling",
   "metadata": {},
   "outputs": [],
   "source": [
    "def graph(col):\n",
    "    plt.figure(figsize=(24,8)) \n",
    "    plt.subplot(1, 3, 1)\n",
    "    plt.boxplot(df[col])\n",
    "    plt.title(col)\n",
    "    plt.subplot(1, 3, 2)\n",
    "    plt.hist(df[col])\n",
    "    plt.title(col)\n",
    "    plt.subplot(1, 3, 3)\n",
    "    plt.scatter(df[col], df.rating_avg)\n",
    "    plt.xlabel(col)\n",
    "    plt.ylabel('rating_avg')\n",
    "    plt.show()"
   ]
  },
  {
   "cell_type": "code",
   "execution_count": 3,
   "id": "suburban-banks",
   "metadata": {},
   "outputs": [
    {
     "data": {
      "text/plain": [
       "Index(['Unnamed: 0', 'rating_avg', 'belongs_to_collection', 'budget',\n",
       "       'popularity', 'Western', 'Romance', 'Adventure', 'TV Movie', 'Foreign',\n",
       "       ...\n",
       "       'zu_lan', 'num_languages', 'Canceled', 'In Production', 'Planned',\n",
       "       'Post Production', 'Released', 'Rumored', 'tagline_len', 'video_int'],\n",
       "      dtype='object', length=384)"
      ]
     },
     "execution_count": 3,
     "metadata": {},
     "output_type": "execute_result"
    }
   ],
   "source": [
    "df = pd.read_csv(\"data/movies_ratings.txt\")\n",
    "df.columns"
   ]
  },
  {
   "cell_type": "code",
   "execution_count": 8,
   "id": "unauthorized-spare",
   "metadata": {
    "scrolled": true
   },
   "outputs": [
    {
     "name": "stderr",
     "output_type": "stream",
     "text": [
      "C:\\Users\\lucyg\\Anaconda3\\lib\\site-packages\\sklearn\\linear_model\\_coordinate_descent.py:532: ConvergenceWarning: Objective did not converge. You might want to increase the number of iterations. Duality gap: 2716.934520826761, tolerance: 0.6626406772669897\n",
      "  positive)\n"
     ]
    },
    {
     "data": {
      "text/html": [
       "<div>\n",
       "<style scoped>\n",
       "    .dataframe tbody tr th:only-of-type {\n",
       "        vertical-align: middle;\n",
       "    }\n",
       "\n",
       "    .dataframe tbody tr th {\n",
       "        vertical-align: top;\n",
       "    }\n",
       "\n",
       "    .dataframe thead th {\n",
       "        text-align: right;\n",
       "    }\n",
       "</style>\n",
       "<table border=\"1\" class=\"dataframe\">\n",
       "  <thead>\n",
       "    <tr style=\"text-align: right;\">\n",
       "      <th></th>\n",
       "      <th>alpha</th>\n",
       "      <th>cv_score</th>\n",
       "      <th>test_mae</th>\n",
       "      <th>test_mse</th>\n",
       "      <th>num of features</th>\n",
       "    </tr>\n",
       "  </thead>\n",
       "  <tbody>\n",
       "    <tr>\n",
       "      <th>0</th>\n",
       "      <td>0.00001</td>\n",
       "      <td>-0.691393</td>\n",
       "      <td>0.606309</td>\n",
       "      <td>0.664385</td>\n",
       "      <td>265</td>\n",
       "    </tr>\n",
       "    <tr>\n",
       "      <th>1</th>\n",
       "      <td>0.00010</td>\n",
       "      <td>-0.675799</td>\n",
       "      <td>0.621797</td>\n",
       "      <td>0.677911</td>\n",
       "      <td>184</td>\n",
       "    </tr>\n",
       "    <tr>\n",
       "      <th>2</th>\n",
       "      <td>0.00100</td>\n",
       "      <td>-0.658382</td>\n",
       "      <td>0.585289</td>\n",
       "      <td>0.615451</td>\n",
       "      <td>64</td>\n",
       "    </tr>\n",
       "    <tr>\n",
       "      <th>3</th>\n",
       "      <td>0.01000</td>\n",
       "      <td>-0.671550</td>\n",
       "      <td>0.612075</td>\n",
       "      <td>0.647864</td>\n",
       "      <td>13</td>\n",
       "    </tr>\n",
       "    <tr>\n",
       "      <th>4</th>\n",
       "      <td>0.10000</td>\n",
       "      <td>-0.732092</td>\n",
       "      <td>0.649165</td>\n",
       "      <td>0.732955</td>\n",
       "      <td>4</td>\n",
       "    </tr>\n",
       "    <tr>\n",
       "      <th>5</th>\n",
       "      <td>1.00000</td>\n",
       "      <td>-0.734173</td>\n",
       "      <td>0.655931</td>\n",
       "      <td>0.751305</td>\n",
       "      <td>3</td>\n",
       "    </tr>\n",
       "    <tr>\n",
       "      <th>6</th>\n",
       "      <td>10.00000</td>\n",
       "      <td>-0.741009</td>\n",
       "      <td>0.657779</td>\n",
       "      <td>0.738490</td>\n",
       "      <td>2</td>\n",
       "    </tr>\n",
       "  </tbody>\n",
       "</table>\n",
       "</div>"
      ],
      "text/plain": [
       "      alpha  cv_score  test_mae  test_mse  num of features\n",
       "0   0.00001 -0.691393  0.606309  0.664385              265\n",
       "1   0.00010 -0.675799  0.621797  0.677911              184\n",
       "2   0.00100 -0.658382  0.585289  0.615451               64\n",
       "3   0.01000 -0.671550  0.612075  0.647864               13\n",
       "4   0.10000 -0.732092  0.649165  0.732955                4\n",
       "5   1.00000 -0.734173  0.655931  0.751305                3\n",
       "6  10.00000 -0.741009  0.657779  0.738490                2"
      ]
     },
     "execution_count": 8,
     "metadata": {},
     "output_type": "execute_result"
    }
   ],
   "source": [
    "alphas = [0.00001, 0.0001, 0.001, 0.01, 0.1, 1, 10]\n",
    "res = pd.DataFrame()\n",
    "res['alpha'] = alphas\n",
    "mae = []\n",
    "mse = []\n",
    "cv_score = []\n",
    "num = []\n",
    "\n",
    "for alpha in alphas:\n",
    "    # lasso feature selection\n",
    "    clf = linear_model.Lasso(alpha=alpha)\n",
    "    X = df.drop(columns=['rating_avg', 'Unnamed: 0', 'revenue', 'vote_count', 'vote_average', 'Released', 'popularity'])\n",
    "    y = df.rating_avg\n",
    "    mdl = clf.fit(X, y)\n",
    "    coef = clf.coef_\n",
    "    features = X.columns[coef!=0]\n",
    "    X = X[features]\n",
    "    num.append(len(features))\n",
    "    \n",
    "    # linear regression\n",
    "    X_train, X_test, y_train, y_test = train_test_split(X, y, test_size=0.2)\n",
    "    linreg = LinearRegression()\n",
    "    linreg.fit(X_train, y_train)\n",
    "    y_hat_test = linreg.predict(X_test)\n",
    "    \n",
    "    # mean absolute error\n",
    "    test_mse = mean_squared_error(y_test, y_hat_test)\n",
    "    mse.append(test_mse)\n",
    "    test_rmse = np.sqrt(test_mse)\n",
    "    test_mae = mean_absolute_error(y_test, y_hat_test)\n",
    "    mae.append(test_mae)\n",
    "    \n",
    "    # cross validation scores\n",
    "    cv_5_results = cross_val_score(linreg, \n",
    "                                   X, \n",
    "                                   y, \n",
    "                                   cv=5, \n",
    "                                   scoring=\"neg_mean_squared_error\")\n",
    "    cv_score.append(np.mean(cv_5_results))\n",
    "    \n",
    "res['cv_score'] = cv_score\n",
    "res['test_mae'] = mae\n",
    "res['test_mse'] = mse\n",
    "res['num of features'] = num\n",
    "res"
   ]
  },
  {
   "cell_type": "code",
   "execution_count": 11,
   "id": "amber-travel",
   "metadata": {},
   "outputs": [
    {
     "data": {
      "image/png": "[encoded data removed]",
      "text/plain": [
       "<Figure size 432x288 with 1 Axes>"
      ]
     },
     "metadata": {
      "needs_background": "light"
     },
     "output_type": "display_data"
    }
   ],
   "source": [
    "fig,ax = plt.subplots()\n",
    "\n",
    "x = res.alpha\n",
    "y1 = res.cv_score\n",
    "y2 = res.test_mae\n",
    "y3 = res.test_mse\n",
    "\n",
    "ax.plot(y1,marker='o', label=\"CV-score\")\n",
    "ax.plot(y2,marker='x', label=\"Test MAE\")\n",
    "ax.plot(y3,marker='p', label=\"Test MSE\")\n",
    "ax.set_xticks([i for i in range(len(y2))])\n",
    "ax.set_xticklabels(x)\n",
    "plt.axvline(x = 2, color = 'r', linestyle = '-', label=\"Optimal Alpha Value\")\n",
    "plt.xlabel(\"Alpha\")\n",
    "plt.ylabel(\"Score\")\n",
    "plt.legend()\n",
    "plt.show()"
   ]
  },
  {
   "cell_type": "code",
   "execution_count": null,
   "id": "significant-judgment",
   "metadata": {},
   "outputs": [],
   "source": [
    "[i for i in range(len(y2))]"
   ]
  },
  {
   "cell_type": "code",
   "execution_count": null,
   "id": "nutritional-moore",
   "metadata": {},
   "outputs": [],
   "source": [
    "plt.plot(\n",
    "    res.alpha, \n",
    "    res.cv_score, \n",
    "    label=\"CV-score\")\n",
    "plt.plot(\n",
    "    res.alpha, \n",
    "    res.mae, \n",
    "    label = \"MAE\")\n",
    "plt.legend()\n",
    "plt.xlabel(\"Alpha\")\n",
    "plt.ylabel(\"Scores\")\n",
    "plt.show()"
   ]
  },
  {
   "cell_type": "code",
   "execution_count": null,
   "id": "worth-benefit",
   "metadata": {
    "scrolled": false
   },
   "outputs": [],
   "source": [
    "# lasso feature selection\n",
    "clf = linear_model.Lasso(alpha=0.01)\n",
    "X = df.drop(columns=['rating_avg', 'Unnamed: 0', 'revenue', 'vote_count', 'vote_average', 'Released', 'popularity'])\n",
    "y = df.rating_avg\n",
    "mdl = clf.fit(X, y)\n",
    "coef = clf.coef_\n",
    "features = X.columns[coef!=0]\n",
    "\n",
    "for col in features:\n",
    "    plt.boxplot(df[col])\n",
    "    plt.title(col)\n",
    "    plt.show()\n",
    "    plt.hist(df[col])\n",
    "    plt.title(col)\n",
    "    plt.show()\n",
    "    plt.scatter(df[col], df.rating_avg)\n",
    "    plt.xlabel(col)\n",
    "    plt.ylabel('Rating')\n",
    "    plt.show()\n",
    "\n"
   ]
  },
  {
   "cell_type": "code",
   "execution_count": null,
   "id": "correct-state",
   "metadata": {
    "scrolled": false
   },
   "outputs": [],
   "source": [
    "clf = linear_model.Lasso(alpha=0.001)\n",
    "X = df.drop(columns=['rating_avg', 'Unnamed: 0', 'revenue', 'vote_count', 'vote_average', 'Released', 'popularity'])\n",
    "y = df.rating_avg\n",
    "mdl = clf.fit(X, y)\n",
    "coef = clf.coef_\n",
    "features = X.columns[coef!=0]\n",
    "new_df = X[features]\n",
    "new_df['Rating'] = y\n",
    "new_df.shape"
   ]
  },
  {
   "cell_type": "code",
   "execution_count": null,
   "id": "southwest-charity",
   "metadata": {},
   "outputs": [],
   "source": [
    "\n",
    "# new_df.to_csv(\"data/movies_filtered.csv\")"
   ]
  }
 ],
 "metadata": {
  "kernelspec": {
   "display_name": "Python 3",
   "language": "python",
   "name": "python3"
  },
  "language_info": {
   "codemirror_mode": {
    "name": "ipython",
    "version": 3
   },
   "file_extension": ".py",
   "mimetype": "text/x-python",
   "name": "python",
   "nbconvert_exporter": "python",
   "pygments_lexer": "ipython3",
   "version": "3.7.10"
  }
 },
 "nbformat": 4,
 "nbformat_minor": 5
}
